{
 "cells": [
  {
   "cell_type": "code",
   "execution_count": 1,
   "metadata": {
    "collapsed": false
   },
   "outputs": [],
   "source": [
    "import pymc3\n",
    "import numpy as np\n",
    "import matplotlib.pyplot as plt\n",
    "import seaborn as sb\n",
    "\n",
    "%matplotlib inline"
   ]
  },
  {
   "cell_type": "code",
   "execution_count": 2,
   "metadata": {
    "collapsed": true
   },
   "outputs": [],
   "source": [
    "model = pymc3.Model()\n",
    "with model:\n",
    "    mu1 = pymc3.Normal(\"mu1\", mu=0, sd=1, shape=10)"
   ]
  },
  {
   "cell_type": "code",
   "execution_count": 3,
   "metadata": {
    "collapsed": false
   },
   "outputs": [
    {
     "name": "stderr",
     "output_type": "stream",
     "text": [
      "WARNING (theano.configdefaults): install mkl with `conda install mkl-service`: No module named 'mkl'\n",
      "100%|██████████| 1000/1000 [00:01<00:00, 539.94it/s]\n"
     ]
    }
   ],
   "source": [
    "with model:\n",
    "    step = pymc3.NUTS()\n",
    "    trace = pymc3.sample(1000, init=None, step=step, njobs=2)"
   ]
  },
  {
   "cell_type": "code",
   "execution_count": 4,
   "metadata": {
    "collapsed": false
   },
   "outputs": [
    {
     "data": {
      "text/plain": [
       "['mu1']"
      ]
     },
     "execution_count": 4,
     "metadata": {},
     "output_type": "execute_result"
    }
   ],
   "source": [
    "trace.varnames"
   ]
  },
  {
   "cell_type": "code",
   "execution_count": 5,
   "metadata": {
    "collapsed": false
   },
   "outputs": [
    {
     "data": {
      "text/plain": [
       "{'depth', 'step_size'}"
      ]
     },
     "execution_count": 5,
     "metadata": {},
     "output_type": "execute_result"
    }
   ],
   "source": [
    "trace.statnames"
   ]
  },
  {
   "cell_type": "code",
   "execution_count": 6,
   "metadata": {
    "collapsed": false
   },
   "outputs": [
    {
     "data": {
      "text/plain": [
       "array([4, 1, 4, ..., 5, 4, 3])"
      ]
     },
     "execution_count": 6,
     "metadata": {},
     "output_type": "execute_result"
    }
   ],
   "source": [
    "trace.get_stats('depth')"
   ]
  },
  {
   "cell_type": "markdown",
   "metadata": {},
   "source": [
    "By the way, to me that looks like a lot of variation in step size even after 1000 steps. Is that intenstionals?"
   ]
  },
  {
   "cell_type": "code",
   "execution_count": 7,
   "metadata": {
    "collapsed": false
   },
   "outputs": [
    {
     "data": {
      "text/plain": [
       "[<matplotlib.lines.Line2D at 0x7f1806b44f60>]"
      ]
     },
     "execution_count": 7,
     "metadata": {},
     "output_type": "execute_result"
    },
    {
     "data": {
      "image/png": "[encoded data removed]",
      "text/plain": [
       "<matplotlib.figure.Figure at 0x7f1845622d30>"
      ]
     },
     "metadata": {},
     "output_type": "display_data"
    }
   ],
   "source": [
    "plt.plot(trace['step_size'])"
   ]
  },
  {
   "cell_type": "markdown",
   "metadata": {},
   "source": [
    "# Multiple samplers, some export the same stats\n",
    "\n",
    "Stack the stats along a new axis"
   ]
  },
  {
   "cell_type": "code",
   "execution_count": 8,
   "metadata": {
    "collapsed": true
   },
   "outputs": [],
   "source": [
    "model = pymc3.Model()\n",
    "with model:\n",
    "    mu1 = pymc3.Normal(\"mu1\", mu=0, sd=1, shape=10)\n",
    "    mu2 = pymc3.Normal(\"mu2\", mu=0, sd=1, shape=10)\n",
    "    mu3 = pymc3.Normal(\"mu3\", mu=0, sd=1, shape=10)"
   ]
  },
  {
   "cell_type": "code",
   "execution_count": 9,
   "metadata": {
    "collapsed": false
   },
   "outputs": [
    {
     "name": "stderr",
     "output_type": "stream",
     "text": [
      "100%|██████████| 10/10 [00:00<00:00, 111.31it/s]\n"
     ]
    }
   ],
   "source": [
    "with model:\n",
    "    step1 = pymc3.Metropolis([mu1])\n",
    "    step2 = pymc3.NUTS([mu2])\n",
    "    step3 = pymc3.NUTS([mu3])\n",
    "    trace = pymc3.sample(10, init=None, step=[step1, step2, step3], njobs=2)"
   ]
  },
  {
   "cell_type": "code",
   "execution_count": 10,
   "metadata": {
    "collapsed": false
   },
   "outputs": [
    {
     "data": {
      "text/plain": [
       "{'depth', 'laccept', 'step_size'}"
      ]
     },
     "execution_count": 10,
     "metadata": {},
     "output_type": "execute_result"
    }
   ],
   "source": [
    "trace.statnames"
   ]
  },
  {
   "cell_type": "code",
   "execution_count": 16,
   "metadata": {
    "collapsed": false
   },
   "outputs": [
    {
     "data": {
      "text/plain": [
       "array([-3.79981527, -3.58858633, -3.93184433, -6.21404214, -4.28373559,\n",
       "       -4.18769263, -4.2828306 , -4.96251335, -2.31404663, -2.48961762,\n",
       "       -9.50327699, -8.2878993 , -2.47751032, -6.47920242, -5.97269076,\n",
       "       -3.21535127, -3.09581931, -4.46281923, -4.40202685, -4.66825235])"
      ]
     },
     "execution_count": 16,
     "metadata": {},
     "output_type": "execute_result"
    }
   ],
   "source": [
    "trace['laccept']"
   ]
  },
  {
   "cell_type": "code",
   "execution_count": 11,
   "metadata": {
    "collapsed": false
   },
   "outputs": [
    {
     "data": {
      "text/plain": [
       "array([[ 0.14058533,  0.14058533],\n",
       "       [ 1.95547035,  1.94423405],\n",
       "       [ 0.24832349,  0.24613036],\n",
       "       [ 0.31152986,  0.29871468],\n",
       "       [ 0.40788958,  0.51188278],\n",
       "       [ 0.51644094,  0.95656527],\n",
       "       [ 1.24937003,  2.31172947],\n",
       "       [ 3.41631019,  0.04140893],\n",
       "       [ 0.05178127,  0.10183418],\n",
       "       [ 0.13780727,  0.27748105],\n",
       "       [ 0.14058533,  0.14058533],\n",
       "       [ 1.96226773,  1.95593836],\n",
       "       [ 0.25911864,  0.24841476],\n",
       "       [ 0.33595649,  0.26461786],\n",
       "       [ 0.43241494,  0.45934491],\n",
       "       [ 0.84003655,  0.82064539],\n",
       "       [ 0.76946419,  0.18255824],\n",
       "       [ 0.15784004,  0.4477381 ],\n",
       "       [ 0.41249562,  0.77632174],\n",
       "       [ 1.18015731,  2.09780836]])"
      ]
     },
     "execution_count": 11,
     "metadata": {},
     "output_type": "execute_result"
    }
   ],
   "source": [
    "trace.get_stats('step_size')"
   ]
  },
  {
   "cell_type": "code",
   "execution_count": 17,
   "metadata": {
    "collapsed": false
   },
   "outputs": [],
   "source": [
    "chain = trace._straces[1]"
   ]
  },
  {
   "cell_type": "code",
   "execution_count": 18,
   "metadata": {
    "collapsed": false
   },
   "outputs": [
    {
     "data": {
      "text/plain": [
       "array([[5, 4],\n",
       "       [1, 1],\n",
       "       [4, 3],\n",
       "       [3, 4],\n",
       "       [3, 3],\n",
       "       [2, 2],\n",
       "       [2, 5],\n",
       "       [5, 3],\n",
       "       [3, 3],\n",
       "       [2, 1]])"
      ]
     },
     "execution_count": 18,
     "metadata": {},
     "output_type": "execute_result"
    }
   ],
   "source": [
    "chain.get_stats('depth')"
   ]
  },
  {
   "cell_type": "code",
   "execution_count": 20,
   "metadata": {
    "collapsed": false
   },
   "outputs": [
    {
     "data": {
      "text/plain": [
       "array([5, 1, 4, 3, 3, 2, 2, 5, 3, 2])"
      ]
     },
     "execution_count": 20,
     "metadata": {},
     "output_type": "execute_result"
    }
   ],
   "source": [
    "chain.get_stats('depth', sampler_idx=1, burn=0, thin=1)"
   ]
  },
  {
   "cell_type": "code",
   "execution_count": 21,
   "metadata": {
    "collapsed": false
   },
   "outputs": [
    {
     "data": {
      "text/plain": [
       "array([4, 1, 3, 4, 3, 2, 5, 3, 3, 1])"
      ]
     },
     "execution_count": 21,
     "metadata": {},
     "output_type": "execute_result"
    }
   ],
   "source": [
    "chain.get_stats('depth', sampler_idx=2)"
   ]
  },
  {
   "cell_type": "code",
   "execution_count": 22,
   "metadata": {
    "collapsed": false
   },
   "outputs": [
    {
     "data": {
      "text/plain": [
       "[{'laccept': array([-9.50327699, -8.2878993 , -2.47751032, -6.47920242, -5.97269076,\n",
       "         -3.21535127, -3.09581931, -4.46281923, -4.40202685, -4.66825235])},\n",
       " {'depth': array([5, 1, 4, 3, 3, 2, 2, 5, 3, 2]),\n",
       "  'step_size': array([ 0.14058533,  1.96226773,  0.25911864,  0.33595649,  0.43241494,\n",
       "          0.84003655,  0.76946419,  0.15784004,  0.41249562,  1.18015731])},\n",
       " {'depth': array([4, 1, 3, 4, 3, 2, 5, 3, 3, 1]),\n",
       "  'step_size': array([ 0.14058533,  1.95593836,  0.24841476,  0.26461786,  0.45934491,\n",
       "          0.82064539,  0.18255824,  0.4477381 ,  0.77632174,  2.09780836])}]"
      ]
     },
     "execution_count": 22,
     "metadata": {},
     "output_type": "execute_result"
    }
   ],
   "source": [
    "chain._stats"
   ]
  },
  {
   "cell_type": "markdown",
   "metadata": {},
   "source": [
    "# Multiple samplers, only some export stats"
   ]
  },
  {
   "cell_type": "code",
   "execution_count": 25,
   "metadata": {
    "collapsed": false
   },
   "outputs": [
    {
     "name": "stderr",
     "output_type": "stream",
     "text": [
      "Assigned BinaryGibbsMetropolis to mu1\n",
      "Assigned NUTS to mu2\n",
      "100%|██████████| 10/10 [00:00<00:00, 401.13it/s]\n"
     ]
    }
   ],
   "source": [
    "model = pymc3.Model()\n",
    "with model:\n",
    "    mu1 = pymc3.Bernoulli(\"mu1\", p=0.5)\n",
    "    mu2 = pymc3.Normal(\"mu2\", mu=0, sd=1, shape=10)\n",
    "    trace = pymc3.sample(10)"
   ]
  },
  {
   "cell_type": "code",
   "execution_count": 26,
   "metadata": {
    "collapsed": false
   },
   "outputs": [
    {
     "data": {
      "text/plain": [
       "{'depth', 'step_size'}"
      ]
     },
     "execution_count": 26,
     "metadata": {},
     "output_type": "execute_result"
    }
   ],
   "source": [
    "trace.statnames"
   ]
  }
 ],
 "metadata": {
  "kernelspec": {
   "display_name": "Python 3",
   "language": "python",
   "name": "python3"
  },
  "language_info": {
   "codemirror_mode": {
    "name": "ipython",
    "version": 3
   },
   "file_extension": ".py",
   "mimetype": "text/x-python",
   "name": "python",
   "nbconvert_exporter": "python",
   "pygments_lexer": "ipython3",
   "version": "3.5.2"
  }
 },
 "nbformat": 4,
 "nbformat_minor": 2
}
